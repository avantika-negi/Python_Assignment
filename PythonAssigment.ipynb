{
 "cells": [
  {
   "cell_type": "markdown",
   "id": "7749111f-597f-40cd-800d-e377e7968384",
   "metadata": {},
   "source": [
    "# PYTHON ASSIGNMENT 1"
   ]
  },
  {
   "cell_type": "markdown",
   "id": "d0b255b0-8e04-468d-9b56-5c481854275d",
   "metadata": {},
   "source": [
    "**Part 1 Introduction to Python**"
   ]
  },
  {
   "cell_type": "markdown",
   "id": "0d3f1704-8da7-4c04-be99-10de9aae87b3",
   "metadata": {},
   "source": [
    "**Question1**\n",
    "![label](./picc.png)"
   ]
  },
  {
   "cell_type": "markdown",
   "id": "951ede9c-8a78-4132-8991-0859259c3bc8",
   "metadata": {},
   "source": [
    " **Question1-**\n",
    " "
   ]
  },
  {
   "cell_type": "code",
   "execution_count": 14,
   "id": "64ff6f97-fd04-4fa5-8678-619a67bf291b",
   "metadata": {},
   "outputs": [
    {
     "name": "stdout",
     "output_type": "stream",
     "text": [
      "Name:Avantika negi \n",
      "Course Name:MCA\n",
      "python Version:3.12.4 | packaged by Anaconda, Inc. | (main, Jun 18 2024, 15:03:56) [MSC v.1929 64 bit (AMD64)]\n"
     ]
    }
   ],
   "source": [
    "import sys\n",
    "\n",
    "  #Define the details\n",
    "name=\"Avantika negi \"\n",
    "courseName=\"MCA\"\n",
    "python_version=sys.version\n",
    "\n",
    "  #Print the details \n",
    "print(f\"Name:{name}\")\n",
    "print(f\"Course Name:{courseName}\")\n",
    "print(f\"python Version:{python_version}\")"
   ]
  },
  {
   "cell_type": "markdown",
   "id": "5c522cbc-1952-4662-9183-873e7eb693e5",
   "metadata": {},
   "source": [
    "**Question2-**"
   ]
  },
  {
   "cell_type": "code",
   "execution_count": 17,
   "id": "e2f62b0b-32ed-45a6-9295-707e80db0d05",
   "metadata": {},
   "outputs": [
    {
     "name": "stdout",
     "output_type": "stream",
     "text": [
      "Hello , Python World\n"
     ]
    }
   ],
   "source": [
    "str1=\"Hello , Python World\"\n",
    "print(str1)"
   ]
  },
  {
   "cell_type": "markdown",
   "id": "9ae3e435-ae55-4c41-9f93-9f36567292f3",
   "metadata": {},
   "source": [
    "**Part 2 Basic Python syntex**"
   ]
  },
  {
   "cell_type": "markdown",
   "id": "d330bb77-de0c-41d3-9a92-126a36b286a8",
   "metadata": {},
   "source": [
    "**Question1**"
   ]
  },
  {
   "cell_type": "code",
   "execution_count": 31,
   "id": "141a59c5-5cfd-4614-9d51-a18c2b0ba9c5",
   "metadata": {},
   "outputs": [
    {
     "name": "stdin",
     "output_type": "stream",
     "text": [
      "Input your First Name :  Avantika\n",
      "Input your Last Name :  Negi\n"
     ]
    },
    {
     "name": "stdout",
     "output_type": "stream",
     "text": [
      "igeN akitnavA\n"
     ]
    }
   ],
   "source": [
    "# taking the input from the user for first name and store it in the 'fname' variable\n",
    "first_name = input(\"Input your First Name : \")\n",
    "\n",
    "#  takinh input for last name and store it in the 'lname' variable\n",
    "last_name = input(\"Input your Last Name : \")\n",
    "\n",
    "# Display a message with the last name followed by the first name\n",
    "full_name =first_name + \" \" + last_name\n",
    "print(full_name[ : :-1])"
   ]
  },
  {
   "cell_type": "markdown",
   "id": "25d09dab-c700-4146-b12d-94ef3a8b80a1",
   "metadata": {},
   "source": [
    "**Question2**"
   ]
  },
  {
   "cell_type": "code",
   "execution_count": 36,
   "id": "d2463fb4-fe1b-47ee-ae9f-c183aabc298c",
   "metadata": {},
   "outputs": [
    {
     "name": "stdout",
     "output_type": "stream",
     "text": [
      "Data type of num_string after Type Casting: <class 'int'> 20\n",
      "Data type of num_string after Type Casting: <class 'float'> 20.0\n",
      "Data type of num_string after Type Casting: <class 'complex'> (20+0j)\n"
     ]
    }
   ],
   "source": [
    "num_string = \"20\"\n",
    "\n",
    "num_string1 = int(num_string)\n",
    "num_string2=float(num_string)\n",
    "num_string3=complex(num_string)\n",
    "\n",
    "print(\"Data type of num_string after Type Casting:\",type(num_string1) , num_string1)\n",
    "\n",
    "print(\"Data type of num_string after Type Casting:\",type(num_string2) , num_string2)\n",
    "\n",
    "print(\"Data type of num_string after Type Casting:\",type(num_string3), num_string3)\n"
   ]
  },
  {
   "cell_type": "markdown",
   "id": "9ee99831-aab0-4e77-a4ce-fbdbdd4f851f",
   "metadata": {},
   "source": [
    "**Question3**"
   ]
  },
  {
   "cell_type": "code",
   "execution_count": 39,
   "id": "0c88a830-dfc7-4524-8a48-7d280c68d853",
   "metadata": {},
   "outputs": [
    {
     "name": "stdin",
     "output_type": "stream",
     "text": [
      "Enter length=  10\n",
      "Enter width=  90\n"
     ]
    },
    {
     "name": "stdout",
     "output_type": "stream",
     "text": [
      "Rectangle area =  900\n"
     ]
    }
   ],
   "source": [
    "#taking input in length variable \n",
    "length=int(input(\"Enter length= \"))\n",
    "\n",
    "#taking input in breadth variable\n",
    "breadth=int(input(\"Enter width= \"))\n",
    "\n",
    "area=length*breadth\n",
    "print(\"Rectangle area = \",area)"
   ]
  },
  {
   "cell_type": "markdown",
   "id": "909aa898-f487-487a-a0e5-8d3c63173042",
   "metadata": {},
   "source": [
    "**Question4**"
   ]
  },
  {
   "cell_type": "code",
   "execution_count": 42,
   "id": "b5b12312-d0af-4ad9-aeda-626b8e3d459c",
   "metadata": {},
   "outputs": [
    {
     "name": "stdout",
     "output_type": "stream",
     "text": [
      "The area of the rectangle is: 900.00\n"
     ]
    }
   ],
   "source": [
    "# Display the result using the print function with two decimal places\n",
    "print(\"The area of the rectangle is: {:.2f}\".format(area))"
   ]
  },
  {
   "cell_type": "markdown",
   "id": "2d289ccf-cb76-48c3-a9f1-76cbf7013821",
   "metadata": {},
   "source": [
    "**Question5**"
   ]
  },
  {
   "cell_type": "code",
   "execution_count": 45,
   "id": "105fc2a3-1145-4477-9fec-a9d0d94f049b",
   "metadata": {},
   "outputs": [
    {
     "name": "stdin",
     "output_type": "stream",
     "text": [
      "Enter the first number:  9\n",
      "Enter the second number:  12\n",
      "Enter the third number:  6\n"
     ]
    },
    {
     "name": "stdout",
     "output_type": "stream",
     "text": [
      "The average of the three numbers is: 9.00\n"
     ]
    }
   ],
   "source": [
    "# Prompt the user to enter three numbers\n",
    "num1 = float(input(\"Enter the first number: \"))\n",
    "num2 = float(input(\"Enter the second number: \"))\n",
    "num3 = float(input(\"Enter the third number: \"))\n",
    "\n",
    "# Calculate the average\n",
    "average = (num1 + num2 + num3) / 3\n",
    "\n",
    "# Display the result using the % formatting method\n",
    "print(\"The average of the three numbers is: %.2f\" % average)"
   ]
  },
  {
   "cell_type": "markdown",
   "id": "f1aa7495-cd03-4e23-a005-e5fd255af9fc",
   "metadata": {},
   "source": [
    "**Part 3 Language components**"
   ]
  },
  {
   "cell_type": "markdown",
   "id": "d3a5b00d-6a8f-427c-9d31-0e641095ffc1",
   "metadata": {},
   "source": [
    "**Question 1**"
   ]
  },
  {
   "cell_type": "code",
   "execution_count": 49,
   "id": "3323c9bd-73bd-4306-b7b3-b7122e20d483",
   "metadata": {},
   "outputs": [
    {
     "name": "stdin",
     "output_type": "stream",
     "text": [
      "Enter a number (or type 'exit' to quit):  6\n"
     ]
    },
    {
     "name": "stdout",
     "output_type": "stream",
     "text": [
      "The number is positive.\n"
     ]
    },
    {
     "name": "stdin",
     "output_type": "stream",
     "text": [
      "Enter a number (or type 'exit' to quit):  9\n"
     ]
    },
    {
     "name": "stdout",
     "output_type": "stream",
     "text": [
      "The number is positive.\n"
     ]
    },
    {
     "name": "stdin",
     "output_type": "stream",
     "text": [
      "Enter a number (or type 'exit' to quit):  -1\n"
     ]
    },
    {
     "name": "stdout",
     "output_type": "stream",
     "text": [
      "The number is negative.\n"
     ]
    },
    {
     "name": "stdin",
     "output_type": "stream",
     "text": [
      "Enter a number (or type 'exit' to quit):  0\n"
     ]
    },
    {
     "name": "stdout",
     "output_type": "stream",
     "text": [
      "The number is zero.\n"
     ]
    },
    {
     "name": "stdin",
     "output_type": "stream",
     "text": [
      "Enter a number (or type 'exit' to quit):  exit\n"
     ]
    }
   ],
   "source": [
    "while True:\n",
    "    user_input = input(\"Enter a number (or type 'exit' to quit): \")\n",
    "\n",
    "    # Check if the user wants to exit\n",
    "    if user_input.lower() == 'exit':\n",
    "        break\n",
    "\n",
    "    # Convert input to a number\n",
    "    try:\n",
    "        number = float(user_input)\n",
    "        # Determine if the number is positive, negative, or zero\n",
    "        if number > 0:\n",
    "            print(\"The number is positive.\")\n",
    "        elif number < 0:\n",
    "            print(\"The number is negative.\")\n",
    "        else:\n",
    "            print(\"The number is zero.\")\n",
    "    except ValueError:\n",
    "        print(\"Please enter a valid number or 'exit' to quit.\")\n",
    "    continue  # Prompt for a new number if input is not 'exit'"
   ]
  },
  {
   "cell_type": "markdown",
   "id": "de21cd3c-40a9-4980-a1dc-3cb370b7e0b5",
   "metadata": {},
   "source": [
    "**Question2**"
   ]
  },
  {
   "cell_type": "code",
   "execution_count": 52,
   "id": "b1d70450-8265-4922-b191-e09cf215dfbf",
   "metadata": {},
   "outputs": [
    {
     "name": "stdin",
     "output_type": "stream",
     "text": [
      "Enter the first number:  10\n",
      "Enter the second number:  99\n"
     ]
    },
    {
     "name": "stdout",
     "output_type": "stream",
     "text": [
      "One number is even and the other is odd.\n"
     ]
    }
   ],
   "source": [
    "# Input two numbers from the user\n",
    "first_number = int(input(\"Enter the first number: \"))\n",
    "second_number = int(input(\"Enter the second number: \"))\n",
    "\n",
    "# Check whether both numbers are even, odd, or one of each using relational and logical operator\n",
    "if first_number % 2 == 0 and second_number % 2 == 0:\n",
    "    print(\"Both numbers are even.\")\n",
    "elif first_number % 2 != 0 and second_number % 2 != 0:\n",
    "    print(\"Both numbers are odd.\")\n",
    "else:\n",
    "    print(\"One number is even and the other is odd.\")"
   ]
  },
  {
   "cell_type": "markdown",
   "id": "5d268240-3381-407f-b819-e16f25dd8f11",
   "metadata": {},
   "source": [
    "**Question3**"
   ]
  },
  {
   "cell_type": "code",
   "execution_count": 55,
   "id": "39b07129-09c3-4772-a04f-60c01287246b",
   "metadata": {},
   "outputs": [
    {
     "name": "stdin",
     "output_type": "stream",
     "text": [
      "Enter an integer:  45\n"
     ]
    },
    {
     "name": "stdout",
     "output_type": "stream",
     "text": [
      "Binary: 101101\n",
      "Octal: 13\n",
      "Hexadecimal: 16\n"
     ]
    }
   ],
   "source": [
    "#Function to convert a number to binary, octal, and hexadecimal using bitwise operations\n",
    "def convert_number(num):\n",
    "    # Binary conversion\n",
    "    binary = ''\n",
    "    for i in range(num.bit_length(), -1, -1):\n",
    "        binary += '1' if (num >> i) & 1 else '0'\n",
    "    binary = binary.lstrip('0') or '0'  # Remove leading zeros\n",
    "\n",
    "    # Octal conversion\n",
    "    octal = ''\n",
    "    for i in range(num.bit_length() - 1, -1, -3):  # Group by 3 bits for octal\n",
    "        octal_digit = (num >> i) & 7  # Extract 3 bits at a time\n",
    "        octal += str(octal_digit)\n",
    "    octal = octal.lstrip('0') or '0'  # Remove leading zeros\n",
    "\n",
    "    # Hexadecimal conversion\n",
    "    hex_digits = \"0123456789ABCDEF\"\n",
    "    hexadecimal = ''\n",
    "    for i in range(num.bit_length() - 1, -1, -4):  # Group by 4 bits for hexadecimal\n",
    "        hex_digit = (num >> i) & 15  # Extract 4 bits at a time\n",
    "        hexadecimal += hex_digits[hex_digit]\n",
    "    hexadecimal = hexadecimal.lstrip('0') or '0'  # Remove leading zeros\n",
    "\n",
    "    print(f\"Binary: {binary}\")\n",
    "    print(f\"Octal: {octal}\")\n",
    "    print(f\"Hexadecimal: {hexadecimal}\")\n",
    "\n",
    "# Take integer input from the user\n",
    "number = int(input(\"Enter an integer: \"))\n",
    "convert_number(number)"
   ]
  },
  {
   "cell_type": "code",
   "execution_count": null,
   "id": "2467127e-27ad-4038-865e-57da68b13cad",
   "metadata": {},
   "outputs": [],
   "source": []
  }
 ],
 "metadata": {
  "kernelspec": {
   "display_name": "Python 3 (ipykernel)",
   "language": "python",
   "name": "python3"
  },
  "language_info": {
   "codemirror_mode": {
    "name": "ipython",
    "version": 3
   },
   "file_extension": ".py",
   "mimetype": "text/x-python",
   "name": "python",
   "nbconvert_exporter": "python",
   "pygments_lexer": "ipython3",
   "version": "3.12.4"
  }
 },
 "nbformat": 4,
 "nbformat_minor": 5
}
